{
 "cells": [
  {
   "cell_type": "markdown",
   "metadata": {},
   "source": [
    "# Expanding data for Open Rice restaurants via JSON API calls and visualization - PART 2\n",
    "\n",
    "<img src=\"data/openrice.png\">\n",
    "\n",
    "This analysis starts with open data from Open Rice - Hong Kong's most popular dining guide to help people find places to eat based on the restaurant reviews written by real local people. In part 1 of our data analysis, we used that data from Open Rice and API calls to get latitude and longitude information for each restaurant. In part 2, we will use our JSON data to do some analyses and data visualizations.\n",
    "\n",
    "\n",
    "\n",
    "### Parsing JSON\n",
    "\n",
    "In our previous notebook we got the longitude and latitude for all of the resturants in the open rice dataset and exported out the JSON data, however this is still in the JSON format. We will need to import that JSON data and then extract the longitude and latitude data."
   ]
  },
  {
   "cell_type": "code",
   "execution_count": 1,
   "metadata": {},
   "outputs": [
    {
     "data": {
      "text/html": [
       "<div>\n",
       "<style scoped>\n",
       "    .dataframe tbody tr th:only-of-type {\n",
       "        vertical-align: middle;\n",
       "    }\n",
       "\n",
       "    .dataframe tbody tr th {\n",
       "        vertical-align: top;\n",
       "    }\n",
       "\n",
       "    .dataframe thead th {\n",
       "        text-align: right;\n",
       "    }\n",
       "</style>\n",
       "<table border=\"1\" class=\"dataframe\">\n",
       "  <thead>\n",
       "    <tr style=\"text-align: right;\">\n",
       "      <th></th>\n",
       "      <th>address</th>\n",
       "      <th>bookmarks</th>\n",
       "      <th>dislikes</th>\n",
       "      <th>food_type</th>\n",
       "      <th>likes</th>\n",
       "      <th>name</th>\n",
       "      <th>number_of_reviews</th>\n",
       "      <th>price_range</th>\n",
       "    </tr>\n",
       "  </thead>\n",
       "  <tbody>\n",
       "    <tr>\n",
       "      <th>0</th>\n",
       "      <td>Shop J-K., 200 Hollywood Road,</td>\n",
       "      <td>5838</td>\n",
       "      <td>6</td>\n",
       "      <td>Hong Kong Style</td>\n",
       "      <td>78</td>\n",
       "      <td>For Kee Restaurant 科記咖啡餐室</td>\n",
       "      <td>(133 Reviews)</td>\n",
       "      <td>Below $50</td>\n",
       "    </tr>\n",
       "    <tr>\n",
       "      <th>1</th>\n",
       "      <td>G/F, 108 Hollywood Road,</td>\n",
       "      <td>3492</td>\n",
       "      <td>2</td>\n",
       "      <td>International</td>\n",
       "      <td>20</td>\n",
       "      <td>Blue · Butcher &amp; Meat Specialist</td>\n",
       "      <td>(30 Reviews)</td>\n",
       "      <td>$201-400</td>\n",
       "    </tr>\n",
       "    <tr>\n",
       "      <th>2</th>\n",
       "      <td>G/F, 206 Hollywood Road,</td>\n",
       "      <td>5517</td>\n",
       "      <td>5</td>\n",
       "      <td>Thai</td>\n",
       "      <td>31</td>\n",
       "      <td>Chachawan</td>\n",
       "      <td>(43 Reviews)</td>\n",
       "      <td>$201-400</td>\n",
       "    </tr>\n",
       "    <tr>\n",
       "      <th>3</th>\n",
       "      <td>Shop 3018, 3/F, Shun Tak Centre, 168-200 Conna...</td>\n",
       "      <td>1173</td>\n",
       "      <td>1</td>\n",
       "      <td>Hong Kong Style</td>\n",
       "      <td>23</td>\n",
       "      <td>Capital Café 華星冰室</td>\n",
       "      <td>(39 Reviews)</td>\n",
       "      <td>Below $50</td>\n",
       "    </tr>\n",
       "    <tr>\n",
       "      <th>4</th>\n",
       "      <td>G/F, 38 Queens Road West,</td>\n",
       "      <td>1064</td>\n",
       "      <td>1</td>\n",
       "      <td>Indian</td>\n",
       "      <td>50</td>\n",
       "      <td>Namaste Kitchen 滋味廚房</td>\n",
       "      <td>(57 Reviews)</td>\n",
       "      <td>$51-100</td>\n",
       "    </tr>\n",
       "  </tbody>\n",
       "</table>\n",
       "</div>"
      ],
      "text/plain": [
       "                                             address  bookmarks  dislikes  \\\n",
       "0                     Shop J-K., 200 Hollywood Road,       5838         6   \n",
       "1                           G/F, 108 Hollywood Road,       3492         2   \n",
       "2                           G/F, 206 Hollywood Road,       5517         5   \n",
       "3  Shop 3018, 3/F, Shun Tak Centre, 168-200 Conna...       1173         1   \n",
       "4                          G/F, 38 Queens Road West,       1064         1   \n",
       "\n",
       "         food_type  likes                              name number_of_reviews  \\\n",
       "0  Hong Kong Style     78         For Kee Restaurant 科記咖啡餐室     (133 Reviews)   \n",
       "1    International     20  Blue · Butcher & Meat Specialist      (30 Reviews)   \n",
       "2             Thai     31                         Chachawan      (43 Reviews)   \n",
       "3  Hong Kong Style     23                 Capital Café 華星冰室      (39 Reviews)   \n",
       "4           Indian     50              Namaste Kitchen 滋味廚房      (57 Reviews)   \n",
       "\n",
       "  price_range  \n",
       "0   Below $50  \n",
       "1    $201-400  \n",
       "2    $201-400  \n",
       "3   Below $50  \n",
       "4     $51-100  "
      ]
     },
     "execution_count": 1,
     "metadata": {},
     "output_type": "execute_result"
    }
   ],
   "source": [
    "# loading our original CSV data as a pandas dataframe\n",
    "import pandas as pd\n",
    "\n",
    "df = pd.read_csv('data/open-rice.csv')\n",
    "df.head()"
   ]
  },
  {
   "cell_type": "code",
   "execution_count": 2,
   "metadata": {},
   "outputs": [],
   "source": [
    "import json"
   ]
  },
  {
   "cell_type": "code",
   "execution_count": 3,
   "metadata": {},
   "outputs": [],
   "source": [
    "# loading our json data a list\n",
    "addresses = json.load(open(\"data/openrice_addresses.json\"))"
   ]
  },
  {
   "cell_type": "code",
   "execution_count": 4,
   "metadata": {},
   "outputs": [
    {
     "name": "stdout",
     "output_type": "stream",
     "text": [
      "{\"RequestAddress\": {\"AddressLine\": [\"Shop 1, G/F, King Ho Building, 41-49 Aberdeen Street, Soho,\"]}, \"SuggestedAddress\": [{\"Address\": {\"PremisesAddress\": {\"EngPremisesAddress\": {\"BuildingName\": \"KING HO BUILDING\", \"EngStreet\": {\"StreetName\": \"ABERDEEN STREET\", \"BuildingNoFrom\": \"41\", \"BuildingNoTo\": \"49\"}, \"EngDistrict\": {\"DcDistrict\": \"CW\"}, \"Region\": \"HK\"}, \"ChiPremisesAddress\": {\"Region\": \"\\u9999\\u6e2f\", \"ChiDistrict\": {\"DcDistrict\": \"CW\"}, \"ChiStreet\": {\"StreetName\": \"\\u9d28\\u5df4\\u7538\\u8857\", \"BuildingNoFrom\": \"41\", \"BuildingNoTo\": \"49\"}, \"BuildingName\": \"\\u91d1\\u8c6a\\u5927\\u5ec8\"}, \"GeospatialInformation\": [{\"Northing\": \"815981\", \"Easting\": \"833655\", \"Latitude\": \"22.2827\", \"Longitude\": \"114.1515\"}, {\"Northing\": \"815979\", \"Easting\": \"833655\", \"Latitude\": \"22.2826\", \"Longitude\": \"114.1515\"}]}}, \"ValidationInformation\": {\"ValidationTime\": null}}]}\n"
     ]
    }
   ],
   "source": [
    "# checking out our JSON data\n",
    "print(addresses[5])"
   ]
  },
  {
   "cell_type": "markdown",
   "metadata": {},
   "source": [
    "Our data is a list of JSON strings. We'll need to define a function that extracts each one of the latitude and longitudes from each JSON string."
   ]
  },
  {
   "cell_type": "code",
   "execution_count": 5,
   "metadata": {},
   "outputs": [
    {
     "data": {
      "text/plain": [
       "{'RequestAddress': {'AddressLine': ['Shop 1, G/F, King Ho Building, 41-49 Aberdeen Street, Soho,']},\n",
       " 'SuggestedAddress': [{'Address': {'PremisesAddress': {'EngPremisesAddress': {'BuildingName': 'KING HO BUILDING',\n",
       "      'EngStreet': {'StreetName': 'ABERDEEN STREET',\n",
       "       'BuildingNoFrom': '41',\n",
       "       'BuildingNoTo': '49'},\n",
       "      'EngDistrict': {'DcDistrict': 'CW'},\n",
       "      'Region': 'HK'},\n",
       "     'ChiPremisesAddress': {'Region': '香港',\n",
       "      'ChiDistrict': {'DcDistrict': 'CW'},\n",
       "      'ChiStreet': {'StreetName': '鴨巴甸街',\n",
       "       'BuildingNoFrom': '41',\n",
       "       'BuildingNoTo': '49'},\n",
       "      'BuildingName': '金豪大廈'},\n",
       "     'GeospatialInformation': [{'Northing': '815981',\n",
       "       'Easting': '833655',\n",
       "       'Latitude': '22.2827',\n",
       "       'Longitude': '114.1515'},\n",
       "      {'Northing': '815979',\n",
       "       'Easting': '833655',\n",
       "       'Latitude': '22.2826',\n",
       "       'Longitude': '114.1515'}]}},\n",
       "   'ValidationInformation': {'ValidationTime': None}}]}"
      ]
     },
     "execution_count": 5,
     "metadata": {},
     "output_type": "execute_result"
    }
   ],
   "source": [
    "# if we take a look at a single JSON line after parsing it into a python dictionary\n",
    "# we can see a format so we can extract what we need (which is the request address and the lat and long)\n",
    "json.loads(addresses[5])"
   ]
  },
  {
   "cell_type": "code",
   "execution_count": 6,
   "metadata": {},
   "outputs": [
    {
     "data": {
      "text/plain": [
       "'Shop 1, G/F, King Ho Building, 41-49 Aberdeen Street, Soho,'"
      ]
     },
     "execution_count": 6,
     "metadata": {},
     "output_type": "execute_result"
    }
   ],
   "source": [
    "# Getting a test address we requested from the original CSV file\n",
    "json.loads(addresses[5])['RequestAddress']['AddressLine'][0]"
   ]
  },
  {
   "cell_type": "code",
   "execution_count": 7,
   "metadata": {},
   "outputs": [
    {
     "data": {
      "text/plain": [
       "'22.2827'"
      ]
     },
     "execution_count": 7,
     "metadata": {},
     "output_type": "execute_result"
    }
   ],
   "source": [
    "# Getting a test latitude from the nested dictionary:\n",
    "json.loads(addresses[5])['SuggestedAddress'][0]['Address']['PremisesAddress']['GeospatialInformation'][0]['Latitude']"
   ]
  },
  {
   "cell_type": "code",
   "execution_count": 8,
   "metadata": {},
   "outputs": [
    {
     "data": {
      "text/plain": [
       "'114.1515'"
      ]
     },
     "execution_count": 8,
     "metadata": {},
     "output_type": "execute_result"
    }
   ],
   "source": [
    "# Getting a test longitude from the nested dictionary:\n",
    "json.loads(addresses[5])['SuggestedAddress'][0]['Address']['PremisesAddress']['GeospatialInformation'][0]['Longitude']"
   ]
  },
  {
   "cell_type": "code",
   "execution_count": 9,
   "metadata": {},
   "outputs": [
    {
     "data": {
      "text/plain": [
       "14693"
      ]
     },
     "execution_count": 9,
     "metadata": {},
     "output_type": "execute_result"
    }
   ],
   "source": [
    "len(addresses)"
   ]
  },
  {
   "cell_type": "code",
   "execution_count": 10,
   "metadata": {},
   "outputs": [
    {
     "name": "stdout",
     "output_type": "stream",
     "text": [
      "['Shop J-K., 200 Hollywood Road,', 'G/F, 108 Hollywood Road,', 'G/F, 206 Hollywood Road,', 'Shop 3018, 3/F, Shun Tak Centre, 168-200 Connaught Road Central,', 'G/F, 38 Queens Road West,']\n",
      "\n",
      "[[22.2852, 114.1478], [22.2835, 114.1511], [22.2853, 114.1477], [22.2879, 114.1518], [22.2867, 114.1479]]\n"
     ]
    }
   ],
   "source": [
    "import numpy as np\n",
    "\n",
    "# creating a dictionary of addresses as keys and latitude and longitude as a tuple of two ints:\n",
    "addlatlong = {}\n",
    "\n",
    "for i in range(len(addresses)):\n",
    "    address = json.loads(addresses[i])['RequestAddress']['AddressLine'][0]\n",
    "    try:\n",
    "        latitude = float(json.loads(addresses[i])['SuggestedAddress'][0]['Address']['PremisesAddress']['GeospatialInformation'][0]['Latitude'])\n",
    "        longitude = float(json.loads(addresses[i])['SuggestedAddress'][0]['Address']['PremisesAddress']['GeospatialInformation'][0]['Longitude'])\n",
    "    except:\n",
    "        latitude, longitude = np.nan, np.nan\n",
    "    addlatlong[address] = [latitude, longitude]\n",
    "\n",
    "# printing out a sample to show it worked:\n",
    "print(list(addlatlong.keys())[0:5])\n",
    "print()\n",
    "print(list(addlatlong.values())[0:5])"
   ]
  },
  {
   "cell_type": "markdown",
   "metadata": {},
   "source": [
    "### Updating our Original Dataframe and Adding a Latitude and Longitude Column to each Address"
   ]
  },
  {
   "cell_type": "code",
   "execution_count": 11,
   "metadata": {},
   "outputs": [
    {
     "data": {
      "text/html": [
       "<div>\n",
       "<style scoped>\n",
       "    .dataframe tbody tr th:only-of-type {\n",
       "        vertical-align: middle;\n",
       "    }\n",
       "\n",
       "    .dataframe tbody tr th {\n",
       "        vertical-align: top;\n",
       "    }\n",
       "\n",
       "    .dataframe thead th {\n",
       "        text-align: right;\n",
       "    }\n",
       "</style>\n",
       "<table border=\"1\" class=\"dataframe\">\n",
       "  <thead>\n",
       "    <tr style=\"text-align: right;\">\n",
       "      <th></th>\n",
       "      <th>latitude</th>\n",
       "      <th>longitude</th>\n",
       "      <th>address</th>\n",
       "    </tr>\n",
       "  </thead>\n",
       "  <tbody>\n",
       "    <tr>\n",
       "      <th>Shop J-K., 200 Hollywood Road,</th>\n",
       "      <td>22.2852</td>\n",
       "      <td>114.1478</td>\n",
       "      <td>Shop J-K., 200 Hollywood Road,</td>\n",
       "    </tr>\n",
       "    <tr>\n",
       "      <th>G/F, 108 Hollywood Road,</th>\n",
       "      <td>22.2835</td>\n",
       "      <td>114.1511</td>\n",
       "      <td>G/F, 108 Hollywood Road,</td>\n",
       "    </tr>\n",
       "    <tr>\n",
       "      <th>G/F, 206 Hollywood Road,</th>\n",
       "      <td>22.2853</td>\n",
       "      <td>114.1477</td>\n",
       "      <td>G/F, 206 Hollywood Road,</td>\n",
       "    </tr>\n",
       "    <tr>\n",
       "      <th>Shop 3018, 3/F, Shun Tak Centre, 168-200 Connaught Road Central,</th>\n",
       "      <td>22.2879</td>\n",
       "      <td>114.1518</td>\n",
       "      <td>Shop 3018, 3/F, Shun Tak Centre, 168-200 Conna...</td>\n",
       "    </tr>\n",
       "    <tr>\n",
       "      <th>G/F, 38 Queens Road West,</th>\n",
       "      <td>22.2867</td>\n",
       "      <td>114.1479</td>\n",
       "      <td>G/F, 38 Queens Road West,</td>\n",
       "    </tr>\n",
       "  </tbody>\n",
       "</table>\n",
       "</div>"
      ],
      "text/plain": [
       "                                                    latitude  longitude  \\\n",
       "Shop J-K., 200 Hollywood Road,                       22.2852   114.1478   \n",
       "G/F, 108 Hollywood Road,                             22.2835   114.1511   \n",
       "G/F, 206 Hollywood Road,                             22.2853   114.1477   \n",
       "Shop 3018, 3/F, Shun Tak Centre, 168-200 Connau...   22.2879   114.1518   \n",
       "G/F, 38 Queens Road West,                            22.2867   114.1479   \n",
       "\n",
       "                                                                                              address  \n",
       "Shop J-K., 200 Hollywood Road,                                         Shop J-K., 200 Hollywood Road,  \n",
       "G/F, 108 Hollywood Road,                                                     G/F, 108 Hollywood Road,  \n",
       "G/F, 206 Hollywood Road,                                                     G/F, 206 Hollywood Road,  \n",
       "Shop 3018, 3/F, Shun Tak Centre, 168-200 Connau...  Shop 3018, 3/F, Shun Tak Centre, 168-200 Conna...  \n",
       "G/F, 38 Queens Road West,                                                   G/F, 38 Queens Road West,  "
      ]
     },
     "execution_count": 11,
     "metadata": {},
     "output_type": "execute_result"
    }
   ],
   "source": [
    "# converting our address, lat, long dictionary to a pandas dataframe:\n",
    "addlatlong_df = pd.DataFrame.from_dict(addlatlong, orient='index', columns=['latitude', 'longitude'])\n",
    "\n",
    "# add address as a column so we can use it to merge later\n",
    "addlatlong_df['address'] = addlatlong_df.index\n",
    "addlatlong_df.head()"
   ]
  },
  {
   "cell_type": "code",
   "execution_count": 13,
   "metadata": {},
   "outputs": [
    {
     "data": {
      "text/html": [
       "<div>\n",
       "<style scoped>\n",
       "    .dataframe tbody tr th:only-of-type {\n",
       "        vertical-align: middle;\n",
       "    }\n",
       "\n",
       "    .dataframe tbody tr th {\n",
       "        vertical-align: top;\n",
       "    }\n",
       "\n",
       "    .dataframe thead th {\n",
       "        text-align: right;\n",
       "    }\n",
       "</style>\n",
       "<table border=\"1\" class=\"dataframe\">\n",
       "  <thead>\n",
       "    <tr style=\"text-align: right;\">\n",
       "      <th></th>\n",
       "      <th>address</th>\n",
       "      <th>bookmarks</th>\n",
       "      <th>dislikes</th>\n",
       "      <th>food_type</th>\n",
       "      <th>likes</th>\n",
       "      <th>name</th>\n",
       "      <th>number_of_reviews</th>\n",
       "      <th>price_range</th>\n",
       "      <th>latitude</th>\n",
       "      <th>longitude</th>\n",
       "    </tr>\n",
       "  </thead>\n",
       "  <tbody>\n",
       "    <tr>\n",
       "      <th>0</th>\n",
       "      <td>Shop J-K., 200 Hollywood Road,</td>\n",
       "      <td>5838</td>\n",
       "      <td>6</td>\n",
       "      <td>Hong Kong Style</td>\n",
       "      <td>78</td>\n",
       "      <td>For Kee Restaurant 科記咖啡餐室</td>\n",
       "      <td>(133 Reviews)</td>\n",
       "      <td>Below $50</td>\n",
       "      <td>22.2852</td>\n",
       "      <td>114.1478</td>\n",
       "    </tr>\n",
       "    <tr>\n",
       "      <th>1</th>\n",
       "      <td>Shop J-K., 200 Hollywood Road,</td>\n",
       "      <td>5838</td>\n",
       "      <td>6</td>\n",
       "      <td>Tea Restaurant</td>\n",
       "      <td>78</td>\n",
       "      <td>For Kee Restaurant 科記咖啡餐室</td>\n",
       "      <td>(133 Reviews)</td>\n",
       "      <td>Below $50</td>\n",
       "      <td>22.2852</td>\n",
       "      <td>114.1478</td>\n",
       "    </tr>\n",
       "    <tr>\n",
       "      <th>2</th>\n",
       "      <td>G/F, 108 Hollywood Road,</td>\n",
       "      <td>3492</td>\n",
       "      <td>2</td>\n",
       "      <td>International</td>\n",
       "      <td>20</td>\n",
       "      <td>Blue · Butcher &amp; Meat Specialist</td>\n",
       "      <td>(30 Reviews)</td>\n",
       "      <td>$201-400</td>\n",
       "      <td>22.2835</td>\n",
       "      <td>114.1511</td>\n",
       "    </tr>\n",
       "    <tr>\n",
       "      <th>3</th>\n",
       "      <td>G/F, 108 Hollywood Road,</td>\n",
       "      <td>2259</td>\n",
       "      <td>10</td>\n",
       "      <td>Western</td>\n",
       "      <td>35</td>\n",
       "      <td>Classified</td>\n",
       "      <td>(71 Reviews)</td>\n",
       "      <td>$101-200</td>\n",
       "      <td>22.2835</td>\n",
       "      <td>114.1511</td>\n",
       "    </tr>\n",
       "    <tr>\n",
       "      <th>4</th>\n",
       "      <td>G/F, 108 Hollywood Road,</td>\n",
       "      <td>3492</td>\n",
       "      <td>2</td>\n",
       "      <td>International</td>\n",
       "      <td>20</td>\n",
       "      <td>Blue · Butcher &amp; Meat Specialist</td>\n",
       "      <td>(30 Reviews)</td>\n",
       "      <td>$201-400</td>\n",
       "      <td>22.2835</td>\n",
       "      <td>114.1511</td>\n",
       "    </tr>\n",
       "  </tbody>\n",
       "</table>\n",
       "</div>"
      ],
      "text/plain": [
       "                          address  bookmarks  dislikes        food_type  \\\n",
       "0  Shop J-K., 200 Hollywood Road,       5838         6  Hong Kong Style   \n",
       "1  Shop J-K., 200 Hollywood Road,       5838         6   Tea Restaurant   \n",
       "2        G/F, 108 Hollywood Road,       3492         2    International   \n",
       "3        G/F, 108 Hollywood Road,       2259        10          Western   \n",
       "4        G/F, 108 Hollywood Road,       3492         2    International   \n",
       "\n",
       "   likes                              name number_of_reviews price_range  \\\n",
       "0     78         For Kee Restaurant 科記咖啡餐室     (133 Reviews)   Below $50   \n",
       "1     78         For Kee Restaurant 科記咖啡餐室     (133 Reviews)   Below $50   \n",
       "2     20  Blue · Butcher & Meat Specialist      (30 Reviews)    $201-400   \n",
       "3     35                        Classified      (71 Reviews)    $101-200   \n",
       "4     20  Blue · Butcher & Meat Specialist      (30 Reviews)    $201-400   \n",
       "\n",
       "   latitude  longitude  \n",
       "0   22.2852   114.1478  \n",
       "1   22.2852   114.1478  \n",
       "2   22.2835   114.1511  \n",
       "3   22.2835   114.1511  \n",
       "4   22.2835   114.1511  "
      ]
     },
     "execution_count": 13,
     "metadata": {},
     "output_type": "execute_result"
    }
   ],
   "source": [
    "# creating our final df by merging the above information together\n",
    "openrice = df.merge(addlatlong_df, left_on='address', right_on='address')\n",
    "\n",
    "openrice.head()"
   ]
  },
  {
   "cell_type": "markdown",
   "metadata": {},
   "source": [
    "Let's export this new data to a CSV file:"
   ]
  },
  {
   "cell_type": "code",
   "execution_count": 15,
   "metadata": {},
   "outputs": [],
   "source": [
    "openrice.to_csv(path_or_buf=\"data/open-rice_geotagged.csv\", index=False)"
   ]
  },
  {
   "cell_type": "markdown",
   "metadata": {},
   "source": [
    "## Visualizing our New Data"
   ]
  }
 ],
 "metadata": {
  "kernelspec": {
   "display_name": "Python 3",
   "language": "python",
   "name": "python3"
  },
  "language_info": {
   "codemirror_mode": {
    "name": "ipython",
    "version": 3
   },
   "file_extension": ".py",
   "mimetype": "text/x-python",
   "name": "python",
   "nbconvert_exporter": "python",
   "pygments_lexer": "ipython3",
   "version": "3.7.1"
  }
 },
 "nbformat": 4,
 "nbformat_minor": 2
}
