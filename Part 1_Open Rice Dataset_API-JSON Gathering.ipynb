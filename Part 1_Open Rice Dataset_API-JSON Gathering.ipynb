{
 "cells": [
  {
   "cell_type": "markdown",
   "metadata": {},
   "source": [
    "# Expanding data for Open Rice restaurants via JSON API calls and visualization - PART 1\n",
    "\n",
    "<img src=\"data/openrice.png\">\n",
    "\n",
    "This analysis starts with open data from Open Rice - Hong Kong's most popular dining guide to help people find places to eat based on the restaurant reviews written by real local people. In part 1 of our data analysis, we will use that data from Open Rice and an API call to get latitude and longitude information for each restaurant. In part 2, we will use our JSON data to do some analyses and data visualizations.\n",
    "\n",
    "\n",
    "\n",
    "## Geocoding\n",
    "The Hong Kong government provides an [API](https://data.gov.hk/en-data/dataset/hk-ogcio-st_div_02-als/resource/ac80cf7b-f1e8-40d1-8b1c-8ea344d6e4cf) for address lookup which can be used to get the longitude and latitude for the address. Although many other APIs provide geo coding like Google or Bings API, sometimes they don't work so great with Hong Kong Addresses. \n",
    "\n",
    "So we'll start with doing a POST Request to the Hong Kong government's API to test to make sure it's working."
   ]
  },
  {
   "cell_type": "code",
   "execution_count": 11,
   "metadata": {
    "scrolled": true
   },
   "outputs": [
    {
     "data": {
      "text/plain": [
       "{'RequestAddress': {'AddressLine': ['612-618 Nathan Rd']},\n",
       " 'SuggestedAddress': [{'Address': {'PremisesAddress': {'EngPremisesAddress': {'BuildingName': 'GOOD HOPE BUILDING',\n",
       "      'EngStreet': {'StreetName': 'NATHAN ROAD',\n",
       "       'BuildingNoFrom': '612',\n",
       "       'BuildingNoTo': '618'},\n",
       "      'EngDistrict': {'DcDistrict': 'YTM'},\n",
       "      'Region': 'KLN'},\n",
       "     'GeospatialInformation': [{'Northing': '819812',\n",
       "       'Easting': '835573',\n",
       "       'Latitude': '22.3173',\n",
       "       'Longitude': '114.1701'}]}},\n",
       "   'ValidationInformation': {'ValidationTime': None}}]}"
      ]
     },
     "execution_count": 11,
     "metadata": {},
     "output_type": "execute_result"
    }
   ],
   "source": [
    "import json\n",
    "import requests\n",
    "\n",
    "url = \"https://www.als.ogcio.gov.hk/lookup\"\n",
    "address =  \"612-618 Nathan Rd\" # this is a test address\n",
    "params = {\n",
    "     # these parameters are unique for each API - we are specifying the address and the number of addresses it returns associated with that string address\n",
    "    \"q\":address,\n",
    "    \"n\": 1\n",
    "}\n",
    "\n",
    "# Headers - tells us what type of information we want. We want it in JSON - The headers are specific to this API - the website tells us the header parameters\n",
    "headers = {\n",
    "    \"Accept\": \"application/json\",\n",
    "    \"Accept-Language\": \"en\"\n",
    "    } \n",
    "\n",
    "# making our request and assigning to a response variable\n",
    "resp = requests.post(url, data=params, headers=headers)\n",
    "\n",
    "# getting our information into the JSON format:\n",
    "json.loads(resp.text)"
   ]
  },
  {
   "cell_type": "markdown",
   "metadata": {},
   "source": [
    "### Current Data\n",
    "\n",
    "Let's import and check out the data that we have currently:"
   ]
  },
  {
   "cell_type": "code",
   "execution_count": 12,
   "metadata": {},
   "outputs": [
    {
     "data": {
      "text/html": [
       "<div>\n",
       "<style scoped>\n",
       "    .dataframe tbody tr th:only-of-type {\n",
       "        vertical-align: middle;\n",
       "    }\n",
       "\n",
       "    .dataframe tbody tr th {\n",
       "        vertical-align: top;\n",
       "    }\n",
       "\n",
       "    .dataframe thead th {\n",
       "        text-align: right;\n",
       "    }\n",
       "</style>\n",
       "<table border=\"1\" class=\"dataframe\">\n",
       "  <thead>\n",
       "    <tr style=\"text-align: right;\">\n",
       "      <th></th>\n",
       "      <th>address</th>\n",
       "      <th>bookmarks</th>\n",
       "      <th>dislikes</th>\n",
       "      <th>food_type</th>\n",
       "      <th>likes</th>\n",
       "      <th>name</th>\n",
       "      <th>number_of_reviews</th>\n",
       "      <th>price_range</th>\n",
       "    </tr>\n",
       "  </thead>\n",
       "  <tbody>\n",
       "    <tr>\n",
       "      <th>0</th>\n",
       "      <td>Shop J-K., 200 Hollywood Road,</td>\n",
       "      <td>5838</td>\n",
       "      <td>6</td>\n",
       "      <td>Hong Kong Style</td>\n",
       "      <td>78</td>\n",
       "      <td>For Kee Restaurant 科記咖啡餐室</td>\n",
       "      <td>(133 Reviews)</td>\n",
       "      <td>Below $50</td>\n",
       "    </tr>\n",
       "    <tr>\n",
       "      <th>1</th>\n",
       "      <td>G/F, 108 Hollywood Road,</td>\n",
       "      <td>3492</td>\n",
       "      <td>2</td>\n",
       "      <td>International</td>\n",
       "      <td>20</td>\n",
       "      <td>Blue · Butcher &amp; Meat Specialist</td>\n",
       "      <td>(30 Reviews)</td>\n",
       "      <td>$201-400</td>\n",
       "    </tr>\n",
       "    <tr>\n",
       "      <th>2</th>\n",
       "      <td>G/F, 206 Hollywood Road,</td>\n",
       "      <td>5517</td>\n",
       "      <td>5</td>\n",
       "      <td>Thai</td>\n",
       "      <td>31</td>\n",
       "      <td>Chachawan</td>\n",
       "      <td>(43 Reviews)</td>\n",
       "      <td>$201-400</td>\n",
       "    </tr>\n",
       "    <tr>\n",
       "      <th>3</th>\n",
       "      <td>Shop 3018, 3/F, Shun Tak Centre, 168-200 Conna...</td>\n",
       "      <td>1173</td>\n",
       "      <td>1</td>\n",
       "      <td>Hong Kong Style</td>\n",
       "      <td>23</td>\n",
       "      <td>Capital Café 華星冰室</td>\n",
       "      <td>(39 Reviews)</td>\n",
       "      <td>Below $50</td>\n",
       "    </tr>\n",
       "    <tr>\n",
       "      <th>4</th>\n",
       "      <td>G/F, 38 Queens Road West,</td>\n",
       "      <td>1064</td>\n",
       "      <td>1</td>\n",
       "      <td>Indian</td>\n",
       "      <td>50</td>\n",
       "      <td>Namaste Kitchen 滋味廚房</td>\n",
       "      <td>(57 Reviews)</td>\n",
       "      <td>$51-100</td>\n",
       "    </tr>\n",
       "  </tbody>\n",
       "</table>\n",
       "</div>"
      ],
      "text/plain": [
       "                                             address  bookmarks  dislikes  \\\n",
       "0                     Shop J-K., 200 Hollywood Road,       5838         6   \n",
       "1                           G/F, 108 Hollywood Road,       3492         2   \n",
       "2                           G/F, 206 Hollywood Road,       5517         5   \n",
       "3  Shop 3018, 3/F, Shun Tak Centre, 168-200 Conna...       1173         1   \n",
       "4                          G/F, 38 Queens Road West,       1064         1   \n",
       "\n",
       "         food_type  likes                              name number_of_reviews  \\\n",
       "0  Hong Kong Style     78         For Kee Restaurant 科記咖啡餐室     (133 Reviews)   \n",
       "1    International     20  Blue · Butcher & Meat Specialist      (30 Reviews)   \n",
       "2             Thai     31                         Chachawan      (43 Reviews)   \n",
       "3  Hong Kong Style     23                 Capital Café 華星冰室      (39 Reviews)   \n",
       "4           Indian     50              Namaste Kitchen 滋味廚房      (57 Reviews)   \n",
       "\n",
       "  price_range  \n",
       "0   Below $50  \n",
       "1    $201-400  \n",
       "2    $201-400  \n",
       "3   Below $50  \n",
       "4     $51-100  "
      ]
     },
     "execution_count": 12,
     "metadata": {},
     "output_type": "execute_result"
    }
   ],
   "source": [
    "import pandas as pd\n",
    "\n",
    "df = pd.read_csv(\"data/open-rice.csv\")\n",
    "\n",
    "df.head()"
   ]
  },
  {
   "cell_type": "code",
   "execution_count": 13,
   "metadata": {},
   "outputs": [
    {
     "data": {
      "text/plain": [
       "(26165, 8)"
      ]
     },
     "execution_count": 13,
     "metadata": {},
     "output_type": "execute_result"
    }
   ],
   "source": [
    "df.shape"
   ]
  },
  {
   "cell_type": "markdown",
   "metadata": {},
   "source": [
    "### Defining Functions to make our Post Requests for every single one of these 26,165 restaurants\n",
    "\n",
    "Let's write a function that will take a session and address and make a request for us."
   ]
  },
  {
   "cell_type": "code",
   "execution_count": 14,
   "metadata": {},
   "outputs": [],
   "source": [
    "# this library helps us do asynchronous requests\n",
    "from requests_futures.sessions import FuturesSession"
   ]
  },
  {
   "cell_type": "code",
   "execution_count": 15,
   "metadata": {},
   "outputs": [],
   "source": [
    "def make_request(session, address):\n",
    "    '''This function takes a requests_futures session and the address string and returns the JSON response from the HK government'''\n",
    "    data = {\"q\":address, \"n\":1}\n",
    "    headers ={\"Accept\": \"application/json\"}\n",
    "    api_url = \"https://www.als.ogcio.gov.hk/lookup\"\n",
    "    future = session.post(api_url,data=data,headers=headers)\n",
    "    return future"
   ]
  },
  {
   "cell_type": "markdown",
   "metadata": {},
   "source": [
    "Since the API is quite slow this will take sometime, therefore the following is a function that prints the progress."
   ]
  },
  {
   "cell_type": "code",
   "execution_count": 16,
   "metadata": {},
   "outputs": [],
   "source": [
    "import time, sys\n",
    "import numpy as np\n",
    "\n",
    "def print_progress(futures):\n",
    "    '''This function accepts a list of asynchronous sessions and prints the progress until all requests have completed'''\n",
    "    \n",
    "    # creating a function using .done() which is a method from a session that allows us to find request % completion\n",
    "    check_done = lambda x: x.done()\n",
    "    \n",
    "    # vectorizing the function so that we can run it with speed across a list of sessions\n",
    "    check_done = np.vectorize(check_done)\n",
    "\n",
    "    # check_done will return nothing if it's done. so while there's NOT something for all sessions, print information every 1 second\n",
    "    while not check_done(futures).all():\n",
    "        time.sleep(1)\n",
    "        percent = check_done(futures).mean() * 100\n",
    "        sys.stdout.write(\"\\r%d%%\" % percent)\n",
    "        sys.stdout.flush()\n",
    "    print(\"\\n\")"
   ]
  },
  {
   "cell_type": "markdown",
   "metadata": {},
   "source": [
    "Let's make a request for each unique address from our imported data."
   ]
  },
  {
   "cell_type": "code",
   "execution_count": 17,
   "metadata": {},
   "outputs": [
    {
     "name": "stdout",
     "output_type": "stream",
     "text": [
      "Wall time: 496 µs\n",
      "100%\n",
      "\n"
     ]
    }
   ],
   "source": [
    "# specific to jupyter notebook to allow us to \"time-it\"\n",
    "%time\n",
    "\n",
    "#create session with 16 threads that can make requests at a time - so 16 requests at a time asynchronously\n",
    "session = FuturesSession(max_workers=16)\n",
    "\n",
    "# make all of the requests using our make_request() function defined earlier for every address in our imported data and assigning it to our variable futures\n",
    "futures = np.array([make_request(session,address) for address in df.address.unique()])\n",
    "\n",
    "# once future is filled up from our request, this will complete. But in the meanwhile, we will run the print progress function to see the progress\n",
    "print_progress(futures)"
   ]
  },
  {
   "cell_type": "markdown",
   "metadata": {},
   "source": [
    "## Parsing Response\n",
    "\n",
    "Now that all of the requests have been made we can parse them to get the json."
   ]
  },
  {
   "cell_type": "code",
   "execution_count": 18,
   "metadata": {},
   "outputs": [],
   "source": [
    "# getting the result().json() to every single response we got from above\n",
    "json_results = np.vectorize(lambda x: x.result().json())(futures) \n",
    "\n",
    "# another way to read it:\n",
    "# json_results = [f.result().json() for f in futures] \n",
    "# but vectorize is MUCH faster."
   ]
  },
  {
   "cell_type": "code",
   "execution_count": 19,
   "metadata": {},
   "outputs": [
    {
     "data": {
      "text/plain": [
       "{'RequestAddress': {'AddressLine': ['Shop J-K., 200 Hollywood Road,']},\n",
       " 'SuggestedAddress': [{'Address': {'PremisesAddress': {'EngPremisesAddress': {'BuildingName': 'KEE ON BUILDING',\n",
       "      'EngStreet': {'StreetName': 'HOLLYWOOD ROAD', 'BuildingNoFrom': '200'},\n",
       "      'EngDistrict': {'DcDistrict': 'CW'},\n",
       "      'Region': 'HK'},\n",
       "     'ChiPremisesAddress': {'Region': '香港',\n",
       "      'ChiDistrict': {'DcDistrict': 'CW'},\n",
       "      'ChiStreet': {'StreetName': '荷李活道', 'BuildingNoFrom': '200'},\n",
       "      'BuildingName': '祺安大廈'},\n",
       "     'GeospatialInformation': [{'Northing': '816264',\n",
       "       'Easting': '833279',\n",
       "       'Latitude': '22.2852',\n",
       "       'Longitude': '114.1478'},\n",
       "      {'Northing': '816264',\n",
       "       'Easting': '833281',\n",
       "       'Latitude': '22.2852',\n",
       "       'Longitude': '114.1478'}]}},\n",
       "   'ValidationInformation': {'ValidationTime': None}}]}"
      ]
     },
     "execution_count": 19,
     "metadata": {},
     "output_type": "execute_result"
    }
   ],
   "source": [
    "# testing to see what a row of our result looks like in our np array:\n",
    "json_results[0]"
   ]
  },
  {
   "cell_type": "markdown",
   "metadata": {},
   "source": [
    "Let's now write this json to disk for future use."
   ]
  },
  {
   "cell_type": "code",
   "execution_count": 20,
   "metadata": {},
   "outputs": [],
   "source": [
    "result = [json.dumps(result) for result in json_results]\n",
    "result = json.dumps(result)\n",
    "with open(\"data/openrice_addresses.json\",\"w\") as f:\n",
    "    f.write(result)"
   ]
  },
  {
   "cell_type": "markdown",
   "metadata": {},
   "source": [
    "### Part 2 will use the data we gathered to perform some analyses and visualizations."
   ]
  }
 ],
 "metadata": {
  "kernelspec": {
   "display_name": "Python 3",
   "language": "python",
   "name": "python3"
  },
  "language_info": {
   "codemirror_mode": {
    "name": "ipython",
    "version": 3
   },
   "file_extension": ".py",
   "mimetype": "text/x-python",
   "name": "python",
   "nbconvert_exporter": "python",
   "pygments_lexer": "ipython3",
   "version": "3.7.1"
  }
 },
 "nbformat": 4,
 "nbformat_minor": 2
}
